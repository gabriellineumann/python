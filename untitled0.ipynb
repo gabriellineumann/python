{
  "nbformat": 4,
  "nbformat_minor": 0,
  "metadata": {
    "colab": {
      "provenance": [],
      "authorship_tag": "ABX9TyNySb3hQqaYHsgRaKzHbAPb",
      "include_colab_link": true
    },
    "kernelspec": {
      "name": "python3",
      "display_name": "Python 3"
    },
    "language_info": {
      "name": "python"
    }
  },
  "cells": [
    {
      "cell_type": "markdown",
      "metadata": {
        "id": "view-in-github",
        "colab_type": "text"
      },
      "source": [
        "<a href=\"https://colab.research.google.com/github/gabriellineumann/python/blob/main/untitled0.ipynb\" target=\"_parent\"><img src=\"https://colab.research.google.com/assets/colab-badge.svg\" alt=\"Open In Colab\"/></a>"
      ]
    },
    {
      "cell_type": "markdown",
      "source": [
        "#**Aula:** 1 ❄ ⛳ ☕"
      ],
      "metadata": {
        "id": "kJ3cSpwoza6O"
      }
    },
    {
      "cell_type": "code",
      "execution_count": null,
      "metadata": {
        "colab": {
          "base_uri": "https://localhost:8080/"
        },
        "id": "9HgPGB3Ax4KN",
        "outputId": "24f7a1a8-d130-481e-9b1b-daa0d9f6353e"
      },
      "outputs": [
        {
          "output_type": "stream",
          "name": "stdout",
          "text": [
            "I competição de programação dá Start\n",
            "II competição de programação da Start\n",
            "II competição de programação da Start\n"
          ]
        }
      ],
      "source": [
        "print(\"I competição de programação dá Start\")\n",
        "ano = \"II\"\n",
        "print(ano, \"competição de programação da Start\")\n",
        "print(f\"{ano} competição de programação da Start\")"
      ]
    },
    {
      "cell_type": "markdown",
      "source": [
        "Aula 2"
      ],
      "metadata": {
        "id": "1SC1MDYF03Lv"
      }
    },
    {
      "cell_type": "code",
      "source": [
        "livro_ficcao = 8\n",
        "livro_n_ficcao = 10\n",
        "livro_infantil = 6\n",
        "pontos_rodrigo = livro_ficcao + livro_n_ficcao + livro_infantil\n",
        "print(f\"Os pontos totais do Rodrigo são {pontos_rodrigo}\")"
      ],
      "metadata": {
        "colab": {
          "base_uri": "https://localhost:8080/"
        },
        "id": "h017X5YL0--3",
        "outputId": "5b359de4-7758-4196-f7ca-d2b16d3ae311"
      },
      "execution_count": null,
      "outputs": [
        {
          "output_type": "stream",
          "name": "stdout",
          "text": [
            "Os pontos totais do Rodrigo são 24\n"
          ]
        }
      ]
    },
    {
      "cell_type": "markdown",
      "source": [
        "#Aula3 ✈ ⚗ ⚛"
      ],
      "metadata": {
        "id": "ZEun1ZVxvoki"
      }
    },
    {
      "cell_type": "code",
      "source": [
        "numero_de_alunos = int(input(\"Digite a quantidade de alunos: \"))\n",
        "numero_de_monitores = int(input(\"Digite a quantidade de monitores: \"))\n",
        "numero_de_professores = 8\n",
        "if numero_de_alunos + numero_de_monitores + numero_de_professores <= 50:\n",
        "  resposta_positiva = \"pode ir\"\n",
        "resposta_negativa = \"não pode ir\"\n",
        "if numero_de_alunos + numero_de_monitores + numero_de_professores <= 50:\n",
        "   print(resposta_positiva)\n",
        "else:\n",
        "   print(resposta_negativa)"
      ],
      "metadata": {
        "colab": {
          "base_uri": "https://localhost:8080/"
        },
        "id": "IMCBrr8WvsCu",
        "outputId": "0f4db2b8-3107-4852-d71b-fe0be14a734d"
      },
      "execution_count": null,
      "outputs": [
        {
          "output_type": "stream",
          "name": "stdout",
          "text": [
            "Digite a quantidade de alunos: 5\n",
            "Digite a quantidade de monitores: 7\n",
            "pode ir\n"
          ]
        }
      ]
    },
    {
      "cell_type": "markdown",
      "source": [
        "#Aula 4 ✌ ⛰ ❔"
      ],
      "metadata": {
        "id": "qFeTJsaOy77r"
      }
    },
    {
      "cell_type": "code",
      "source": [
        "P = int(input(\"Digite a posição da porta P (0 ou 1): \"))\n",
        "R = int(input(\"Digite a posição da porta R (0 ou 1): \"))\n",
        "if P == 0:\n",
        "    print(\"C\")\n",
        "elif R == 1:\n",
        "    print(\"A\")\n",
        "else:\n",
        "    print(\"B\")"
      ],
      "metadata": {
        "colab": {
          "base_uri": "https://localhost:8080/"
        },
        "id": "4WA-9O-WznlI",
        "outputId": "b29fd977-c34e-4b7a-e794-91de3d2044de"
      },
      "execution_count": null,
      "outputs": [
        {
          "output_type": "stream",
          "name": "stdout",
          "text": [
            "Digite a posição da porta P (0 ou 1): 1\n",
            "Digite a posição da porta R (0 ou 1): 0\n",
            "B\n"
          ]
        }
      ]
    },
    {
      "cell_type": "markdown",
      "source": [
        "#**Aula** **5** ❣ ㊗ ☣ tabuada"
      ],
      "metadata": {
        "id": "h_SLHKrm6uRE"
      }
    },
    {
      "cell_type": "code",
      "source": [
        "def tabuada(numero):\n",
        "    for contador in range(1, 11):  # Gera números de 1 a 10\n",
        "        print(f\"{numero} x {contador} = {numero * contador}\")\n",
        "numero = int(input(\"Digite um número para ver sua tabuada: \"))\n",
        "tabuada(numero)"
      ],
      "metadata": {
        "colab": {
          "base_uri": "https://localhost:8080/"
        },
        "id": "sQ6WBcNJ7YXv",
        "outputId": "a49bf71c-4f29-4208-cdf7-d26946ddb4ac"
      },
      "execution_count": null,
      "outputs": [
        {
          "output_type": "stream",
          "name": "stdout",
          "text": [
            "Digite um número para ver sua tabuada: 36\n",
            "36 x 1 = 36\n",
            "36 x 2 = 72\n",
            "36 x 3 = 108\n",
            "36 x 4 = 144\n",
            "36 x 5 = 180\n",
            "36 x 6 = 216\n",
            "36 x 7 = 252\n",
            "36 x 8 = 288\n",
            "36 x 9 = 324\n",
            "36 x 10 = 360\n"
          ]
        }
      ]
    },
    {
      "cell_type": "markdown",
      "source": [
        "Aula 6 IMC"
      ],
      "metadata": {
        "id": "6R7DxO7788Dv"
      }
    },
    {
      "cell_type": "code",
      "source": [
        "peso = float(input(\"Digite seu peso (em kg): \"))\n",
        "altura = float(input(\"Digite sua altura (em metros): \"))\n",
        "imc = peso / (altura ** 2)\n",
        "print(f\"\\nSeu IMC é: {imc:.2f}\")\n",
        "if imc < 18.5:\n",
        "    print(\"Você está abaixo do peso.\")\n",
        "elif 18.5 <= imc < 25:\n",
        "    print(\"Você está no peso ideal.\")\n",
        "elif 25 <= imc < 30:\n",
        "    print(\"Você está com sobrepeso.\")\n",
        "else:\n",
        "    print(\"Você está acima do peso.\")"
      ],
      "metadata": {
        "colab": {
          "base_uri": "https://localhost:8080/"
        },
        "id": "Y5Ke6XVP9A2s",
        "outputId": "4cf09095-b03f-4409-a4b0-4df70c85b578"
      },
      "execution_count": null,
      "outputs": [
        {
          "output_type": "stream",
          "name": "stdout",
          "text": [
            "Digite seu peso (em kg): 40\n",
            "Digite sua altura (em metros): 150\n",
            "\n",
            "Seu IMC é: 0.00\n",
            "Você está abaixo do peso.\n"
          ]
        }
      ]
    },
    {
      "cell_type": "markdown",
      "source": [
        "***Aula*** ***7*** ⛲ ❣ ⛺"
      ],
      "metadata": {
        "id": "uTSKwJq52oAw"
      }
    },
    {
      "cell_type": "code",
      "source": [
        "print(\"Sou seu assistente virtual, como posso ajudar? \\n \")\n",
        "nome = input(\"digite seu nome: \")\n",
        "print(\"Olá, \" + nome + \".Qual é sua duvida de hoje?\")\n"
      ],
      "metadata": {
        "colab": {
          "base_uri": "https://localhost:8080/"
        },
        "id": "KsuRQ4j12_SO",
        "outputId": "990feedf-01e7-44a3-dd05-db6a22e468e5"
      },
      "execution_count": null,
      "outputs": [
        {
          "output_type": "stream",
          "name": "stdout",
          "text": [
            "Sou seu assistente virtual, como posso ajudar? \n",
            " \n",
            "digite seu nome: gab\n",
            "Olá, gab.Qual é sua duvida de hoje?\n"
          ]
        }
      ]
    },
    {
      "cell_type": "code",
      "source": [
        "print(\"Sou seu assistente virtual, como posso ajudar? \\n \")\n",
        "nome = input(\"digite seu nome: \")\n",
        "print (f\"Olá, {nome}. Qual é sua duvia hoje?\")\n",
        "resposta = input (\"Qual o assunto que deseja tratar:Matematica, Pyton, Javascript\").lower()\n",
        "if resposta == \"python\":\n",
        " print(f\"Que bom, {nome}, vamos falar sobre Pyton. Python usando menos linhas de código em comparação a muitas outras linguagens\")\n",
        "elif resposta == \"javascript\":\n",
        " print(f\"Que bom, {nome}, vamos falar sobre javascript. O JavaScript foi criado em apenas 10 dias por Brendan Eich, em 1995\")\n",
        "else:\n",
        "  print(f\"Que bom, {nome}, vamos falar sobre Matematica. A matemática é considerada a linguagem do universo leis da física, algoritmos e até música seguem padrões matemáticos.\")"
      ],
      "metadata": {
        "colab": {
          "base_uri": "https://localhost:8080/"
        },
        "id": "dA2jLqHA_hTI",
        "outputId": "dea8861b-daa3-466e-bf0d-a420390129be"
      },
      "execution_count": null,
      "outputs": [
        {
          "output_type": "stream",
          "name": "stdout",
          "text": [
            "Sou seu assistente virtual, como posso ajudar? \n",
            " \n",
            "digite seu nome: gg\n",
            "Olá, gg. Qual é sua duvia hoje?\n",
            "Qual o assunto que deseja tratar:Matematica, Pyton, Javascript javascript\n",
            "Que bom, gg, vamos falar sobre Matematica. A matemática é considerada a linguagem do universo leis da física, algoritmos e até música seguem padrões matemáticos.\n"
          ]
        }
      ]
    }
  ]
}